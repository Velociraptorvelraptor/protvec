{
 "cells": [
  {
   "cell_type": "code",
   "execution_count": 1,
   "metadata": {},
   "outputs": [
    {
     "name": "stdout",
     "output_type": "stream",
     "text": [
      "Collecting Biopython"
     ]
    },
    {
     "name": "stderr",
     "output_type": "stream",
     "text": [
      "You are using pip version 19.0.3, however version 20.2.4 is available.\n",
      "You should consider upgrading via the 'python -m pip install --upgrade pip' command.\n"
     ]
    },
    {
     "name": "stdout",
     "output_type": "stream",
     "text": [
      "\n",
      "  Downloading https://files.pythonhosted.org/packages/9d/18/2db178ac5dafad788f694454b57da0aa887aa93e470ee4e41e0099361cb3/biopython-1.78-cp37-cp37m-win_amd64.whl (2.3MB)\n",
      "Collecting numpy (from Biopython)\n",
      "  Downloading https://files.pythonhosted.org/packages/e8/c8/9a55f91d4a08652095bdbdfb3b2bb98e7d61146ef3341e3744bc3e7d7021/numpy-1.19.3-cp37-cp37m-win_amd64.whl (13.2MB)\n",
      "Installing collected packages: numpy, Biopython\n",
      "Successfully installed Biopython-1.78 numpy-1.19.3\n"
     ]
    }
   ],
   "source": [
    "!pip install Biopython"
   ]
  },
  {
   "cell_type": "code",
   "execution_count": 3,
   "metadata": {},
   "outputs": [],
   "source": [
    "!pip freeze > requirements.txt"
   ]
  },
  {
   "cell_type": "code",
   "execution_count": 17,
   "metadata": {},
   "outputs": [],
   "source": [
    "example_data_file = 'data/rcsb_pdb_1J85.fasta'"
   ]
  },
  {
   "cell_type": "code",
   "execution_count": 13,
   "metadata": {},
   "outputs": [],
   "source": [
    "data_file_all_proteins = 'data/all_sample_proteins.fasta'"
   ]
  },
  {
   "cell_type": "code",
   "execution_count": 15,
   "metadata": {},
   "outputs": [],
   "source": [
    "sample_ntrans_file = 'data/sample_ntrans.fasta'"
   ]
  },
  {
   "cell_type": "code",
   "execution_count": 41,
   "metadata": {},
   "outputs": [
    {
     "name": "stdout",
     "output_type": "stream",
     "text": [
      "1J85_1|Chain\n",
      "160\n"
     ]
    }
   ],
   "source": [
    "from Bio import SeqIO\n",
    "for seq_record in SeqIO.parse(example_data_file, 'fasta'):\n",
    "    print(seq_record.id)\n",
    "    sequence = seq_record.seq\n",
    "    print(len(seq_record))"
   ]
  },
  {
   "cell_type": "code",
   "execution_count": 20,
   "metadata": {},
   "outputs": [],
   "source": [
    "from utils import split_sequence"
   ]
  },
  {
   "cell_type": "code",
   "execution_count": 42,
   "metadata": {},
   "outputs": [
    {
     "name": "stdout",
     "output_type": "stream",
     "text": [
      "MLDIVLYEPEIPQNTGNIIRLCANTGFRLHLIEPLGFTWDDKRLRRSGLDYHEFAEIKRHKTFEAFLESEKPKRLFALTTKGCPAHSQVKFKLGDYLMFGPETRGIPMSILNEMPMEQKIRIPMTANSRSMNLSNSVAVTVYEAWRQLGYKGAVNLPEVK\n"
     ]
    }
   ],
   "source": [
    "print(sequence)"
   ]
  },
  {
   "cell_type": "code",
   "execution_count": 43,
   "metadata": {},
   "outputs": [
    {
     "name": "stdout",
     "output_type": "stream",
     "text": [
      "['MLDIV', 'LYEPE', 'IPQNT', 'GNIIR', 'LCANT', 'GFRLH', 'LIEPL', 'GFTWD', 'DKRLR', 'RSGLD', 'YHEFA', 'EIKRH', 'KTFEA', 'FLESE', 'KPKRL', 'FALTT', 'KGCPA', 'HSQVK', 'FKLGD', 'YLMFG', 'PETRG', 'IPMSI', 'LNEMP', 'MEQKI', 'RIPMT', 'ANSRS', 'MNLSN', 'SVAVT', 'VYEAW', 'RQLGY', 'KGAVN']\n",
      "['LDIVL', 'YEPEI', 'PQNTG', 'NIIRL', 'CANTG', 'FRLHL', 'IEPLG', 'FTWDD', 'KRLRR', 'SGLDY', 'HEFAE', 'IKRHK', 'TFEAF', 'LESEK', 'PKRLF', 'ALTTK', 'GCPAH', 'SQVKF', 'KLGDY', 'LMFGP', 'ETRGI', 'PMSIL', 'NEMPM', 'EQKIR', 'IPMTA', 'NSRSM', 'NLSNS', 'VAVTV', 'YEAWR', 'QLGYK', 'GAVNL']\n",
      "['DIVLY', 'EPEIP', 'QNTGN', 'IIRLC', 'ANTGF', 'RLHLI', 'EPLGF', 'TWDDK', 'RLRRS', 'GLDYH', 'EFAEI', 'KRHKT', 'FEAFL', 'ESEKP', 'KRLFA', 'LTTKG', 'CPAHS', 'QVKFK', 'LGDYL', 'MFGPE', 'TRGIP', 'MSILN', 'EMPME', 'QKIRI', 'PMTAN', 'SRSMN', 'LSNSV', 'AVTVY', 'EAWRQ', 'LGYKG', 'AVNLP']\n",
      "['IVLYE', 'PEIPQ', 'NTGNI', 'IRLCA', 'NTGFR', 'LHLIE', 'PLGFT', 'WDDKR', 'LRRSG', 'LDYHE', 'FAEIK', 'RHKTF', 'EAFLE', 'SEKPK', 'RLFAL', 'TTKGC', 'PAHSQ', 'VKFKL', 'GDYLM', 'FGPET', 'RGIPM', 'SILNE', 'MPMEQ', 'KIRIP', 'MTANS', 'RSMNL', 'SNSVA', 'VTVYE', 'AWRQL', 'GYKGA', 'VNLPE']\n",
      "['VLYEP', 'EIPQN', 'TGNII', 'RLCAN', 'TGFRL', 'HLIEP', 'LGFTW', 'DDKRL', 'RRSGL', 'DYHEF', 'AEIKR', 'HKTFE', 'AFLES', 'EKPKR', 'LFALT', 'TKGCP', 'AHSQV', 'KFKLG', 'DYLMF', 'GPETR', 'GIPMS', 'ILNEM', 'PMEQK', 'IRIPM', 'TANSR', 'SMNLS', 'NSVAV', 'TVYEA', 'WRQLG', 'YKGAV', 'NLPEV']\n"
     ]
    }
   ],
   "source": [
    "ngram = split_sequence(str(sequence), 5)\n",
    "for i in ngram:\n",
    "    print(i)"
   ]
  },
  {
   "cell_type": "code",
   "execution_count": null,
   "metadata": {},
   "outputs": [],
   "source": []
  }
 ],
 "metadata": {
  "kernelspec": {
   "display_name": "Python 3",
   "language": "python",
   "name": "python3"
  },
  "language_info": {
   "codemirror_mode": {
    "name": "ipython",
    "version": 3
   },
   "file_extension": ".py",
   "mimetype": "text/x-python",
   "name": "python",
   "nbconvert_exporter": "python",
   "pygments_lexer": "ipython3",
   "version": "3.7.3"
  }
 },
 "nbformat": 4,
 "nbformat_minor": 4
}
